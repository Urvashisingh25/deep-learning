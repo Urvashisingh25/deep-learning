{
 "cells": [
  {
   "cell_type": "code",
   "execution_count": 1,
   "metadata": {},
   "outputs": [
    {
     "name": "stderr",
     "output_type": "stream",
     "text": [
      "Using TensorFlow backend.\n",
      "C:\\Users\\ADMIN\\anaconda3\\lib\\site-packages\\tensorflow\\python\\framework\\dtypes.py:516: FutureWarning: Passing (type, 1) or '1type' as a synonym of type is deprecated; in a future version of numpy, it will be understood as (type, (1,)) / '(1,)type'.\n",
      "  _np_qint8 = np.dtype([(\"qint8\", np.int8, 1)])\n",
      "C:\\Users\\ADMIN\\anaconda3\\lib\\site-packages\\tensorflow\\python\\framework\\dtypes.py:517: FutureWarning: Passing (type, 1) or '1type' as a synonym of type is deprecated; in a future version of numpy, it will be understood as (type, (1,)) / '(1,)type'.\n",
      "  _np_quint8 = np.dtype([(\"quint8\", np.uint8, 1)])\n",
      "C:\\Users\\ADMIN\\anaconda3\\lib\\site-packages\\tensorflow\\python\\framework\\dtypes.py:518: FutureWarning: Passing (type, 1) or '1type' as a synonym of type is deprecated; in a future version of numpy, it will be understood as (type, (1,)) / '(1,)type'.\n",
      "  _np_qint16 = np.dtype([(\"qint16\", np.int16, 1)])\n",
      "C:\\Users\\ADMIN\\anaconda3\\lib\\site-packages\\tensorflow\\python\\framework\\dtypes.py:519: FutureWarning: Passing (type, 1) or '1type' as a synonym of type is deprecated; in a future version of numpy, it will be understood as (type, (1,)) / '(1,)type'.\n",
      "  _np_quint16 = np.dtype([(\"quint16\", np.uint16, 1)])\n",
      "C:\\Users\\ADMIN\\anaconda3\\lib\\site-packages\\tensorflow\\python\\framework\\dtypes.py:520: FutureWarning: Passing (type, 1) or '1type' as a synonym of type is deprecated; in a future version of numpy, it will be understood as (type, (1,)) / '(1,)type'.\n",
      "  _np_qint32 = np.dtype([(\"qint32\", np.int32, 1)])\n",
      "C:\\Users\\ADMIN\\anaconda3\\lib\\site-packages\\tensorflow\\python\\framework\\dtypes.py:525: FutureWarning: Passing (type, 1) or '1type' as a synonym of type is deprecated; in a future version of numpy, it will be understood as (type, (1,)) / '(1,)type'.\n",
      "  np_resource = np.dtype([(\"resource\", np.ubyte, 1)])\n",
      "C:\\Users\\ADMIN\\anaconda3\\lib\\site-packages\\tensorboard\\compat\\tensorflow_stub\\dtypes.py:541: FutureWarning: Passing (type, 1) or '1type' as a synonym of type is deprecated; in a future version of numpy, it will be understood as (type, (1,)) / '(1,)type'.\n",
      "  _np_qint8 = np.dtype([(\"qint8\", np.int8, 1)])\n",
      "C:\\Users\\ADMIN\\anaconda3\\lib\\site-packages\\tensorboard\\compat\\tensorflow_stub\\dtypes.py:542: FutureWarning: Passing (type, 1) or '1type' as a synonym of type is deprecated; in a future version of numpy, it will be understood as (type, (1,)) / '(1,)type'.\n",
      "  _np_quint8 = np.dtype([(\"quint8\", np.uint8, 1)])\n",
      "C:\\Users\\ADMIN\\anaconda3\\lib\\site-packages\\tensorboard\\compat\\tensorflow_stub\\dtypes.py:543: FutureWarning: Passing (type, 1) or '1type' as a synonym of type is deprecated; in a future version of numpy, it will be understood as (type, (1,)) / '(1,)type'.\n",
      "  _np_qint16 = np.dtype([(\"qint16\", np.int16, 1)])\n",
      "C:\\Users\\ADMIN\\anaconda3\\lib\\site-packages\\tensorboard\\compat\\tensorflow_stub\\dtypes.py:544: FutureWarning: Passing (type, 1) or '1type' as a synonym of type is deprecated; in a future version of numpy, it will be understood as (type, (1,)) / '(1,)type'.\n",
      "  _np_quint16 = np.dtype([(\"quint16\", np.uint16, 1)])\n",
      "C:\\Users\\ADMIN\\anaconda3\\lib\\site-packages\\tensorboard\\compat\\tensorflow_stub\\dtypes.py:545: FutureWarning: Passing (type, 1) or '1type' as a synonym of type is deprecated; in a future version of numpy, it will be understood as (type, (1,)) / '(1,)type'.\n",
      "  _np_qint32 = np.dtype([(\"qint32\", np.int32, 1)])\n",
      "C:\\Users\\ADMIN\\anaconda3\\lib\\site-packages\\tensorboard\\compat\\tensorflow_stub\\dtypes.py:550: FutureWarning: Passing (type, 1) or '1type' as a synonym of type is deprecated; in a future version of numpy, it will be understood as (type, (1,)) / '(1,)type'.\n",
      "  np_resource = np.dtype([(\"resource\", np.ubyte, 1)])\n"
     ]
    }
   ],
   "source": [
    "from keras.models import Sequential\n",
    "from keras.layers import Dense\n",
    "from keras.layers import Convolution2D\n",
    "from keras.layers import MaxPooling2D\n",
    "from keras.layers import Flatten"
   ]
  },
  {
   "cell_type": "code",
   "execution_count": 21,
   "metadata": {},
   "outputs": [],
   "source": [
    "from keras.preprocessing.image import ImageDataGenerator\n",
    "R_train= ImageDataGenerator(rescale=1./255,shear_range=0.2,zoom_range=0.2,horizontal_flip=True)\n",
    "R_test= ImageDataGenerator(rescale=1./255)"
   ]
  },
  {
   "cell_type": "code",
   "execution_count": 25,
   "metadata": {},
   "outputs": [
    {
     "name": "stdout",
     "output_type": "stream",
     "text": [
      "Found 280 images belonging to 4 classes.\n",
      "Found 120 images belonging to 4 classes.\n"
     ]
    }
   ],
   "source": [
    "strain=R_train.flow_from_directory(r\"E:\\CSEA013-project\\CSEA013\\trainset\",target_size = (64,64),batch_size = 32,class_mode=\"categorical\")\n",
    "stest=R_test.flow_from_directory(r\"E:\\CSEA013-project\\CSEA013\\testset\",target_size = (64,64),batch_size =32 ,class_mode=\"categorical\")"
   ]
  },
  {
   "cell_type": "code",
   "execution_count": 26,
   "metadata": {},
   "outputs": [
    {
     "data": {
      "text/plain": [
       "{'Basalt': 0, 'Marble': 1, 'Slate': 2, 'obsidian': 3}"
      ]
     },
     "execution_count": 26,
     "metadata": {},
     "output_type": "execute_result"
    }
   ],
   "source": [
    "strain.class_indices"
   ]
  },
  {
   "cell_type": "raw",
   "metadata": {},
   "source": [
    "Now Lets Intialize the Model"
   ]
  },
  {
   "cell_type": "code",
   "execution_count": 27,
   "metadata": {},
   "outputs": [],
   "source": [
    "model=Sequential()"
   ]
  },
  {
   "cell_type": "code",
   "execution_count": 28,
   "metadata": {},
   "outputs": [],
   "source": [
    "model.add(Convolution2D(32,(3,3),input_shape = (64,64,3),activation = \"relu\"))"
   ]
  },
  {
   "cell_type": "code",
   "execution_count": 29,
   "metadata": {},
   "outputs": [],
   "source": [
    "model.add(MaxPooling2D(pool_size = (2,2)))"
   ]
  },
  {
   "cell_type": "code",
   "execution_count": 30,
   "metadata": {},
   "outputs": [],
   "source": [
    "model.add(Flatten())"
   ]
  },
  {
   "cell_type": "code",
   "execution_count": 31,
   "metadata": {},
   "outputs": [
    {
     "name": "stderr",
     "output_type": "stream",
     "text": [
      "C:\\Users\\ADMIN\\anaconda3\\lib\\site-packages\\ipykernel_launcher.py:1: UserWarning: Update your `Dense` call to the Keras 2 API: `Dense(units=128, activation=\"relu\", kernel_initializer=\"uniform\")`\n",
      "  \"\"\"Entry point for launching an IPython kernel.\n"
     ]
    }
   ],
   "source": [
    "model.add(Dense(units = 128,init = \"uniform\", activation = \"relu\"))"
   ]
  },
  {
   "cell_type": "code",
   "execution_count": 32,
   "metadata": {},
   "outputs": [
    {
     "name": "stderr",
     "output_type": "stream",
     "text": [
      "C:\\Users\\ADMIN\\anaconda3\\lib\\site-packages\\ipykernel_launcher.py:1: UserWarning: Update your `Dense` call to the Keras 2 API: `Dense(units=4, activation=\"softmax\", kernel_initializer=\"uniform\")`\n",
      "  \"\"\"Entry point for launching an IPython kernel.\n"
     ]
    }
   ],
   "source": [
    "model.add(Dense(units = 4,init = \"uniform\", activation = \"softmax\"))"
   ]
  },
  {
   "cell_type": "code",
   "execution_count": 33,
   "metadata": {},
   "outputs": [],
   "source": [
    "model.compile(optimizer = \"adam\",loss = \"categorical_crossentropy\",metrics = [\"accuracy\"])"
   ]
  },
  {
   "cell_type": "code",
   "execution_count": 34,
   "metadata": {},
   "outputs": [
    {
     "name": "stdout",
     "output_type": "stream",
     "text": [
      "Epoch 1/30\n",
      "8/8 [==============================] - 51s 6s/step - loss: 1.3552 - acc: 0.3125 - val_loss: 1.2984 - val_acc: 0.3646\n",
      "Epoch 2/30\n",
      "8/8 [==============================] - 18s 2s/step - loss: 1.1220 - acc: 0.5000 - val_loss: 0.9907 - val_acc: 0.6136\n",
      "Epoch 3/30\n",
      "8/8 [==============================] - 16s 2s/step - loss: 0.8974 - acc: 0.6335 - val_loss: 1.1870 - val_acc: 0.5341\n",
      "Epoch 4/30\n",
      "8/8 [==============================] - 15s 2s/step - loss: 0.9587 - acc: 0.5510 - val_loss: 1.1702 - val_acc: 0.5682\n",
      "Epoch 5/30\n",
      "8/8 [==============================] - 15s 2s/step - loss: 0.8526 - acc: 0.6709 - val_loss: 1.0550 - val_acc: 0.6042\n",
      "Epoch 6/30\n",
      "8/8 [==============================] - 17s 2s/step - loss: 0.8835 - acc: 0.6564 - val_loss: 0.9075 - val_acc: 0.6023\n",
      "Epoch 7/30\n",
      "8/8 [==============================] - 16s 2s/step - loss: 0.7618 - acc: 0.7359 - val_loss: 1.0938 - val_acc: 0.6818\n",
      "Epoch 8/30\n",
      "8/8 [==============================] - 15s 2s/step - loss: 0.7284 - acc: 0.7108 - val_loss: 1.1252 - val_acc: 0.5682\n",
      "Epoch 9/30\n",
      "8/8 [==============================] - 15s 2s/step - loss: 0.7088 - acc: 0.7147 - val_loss: 1.1193 - val_acc: 0.6250\n",
      "Epoch 10/30\n",
      "8/8 [==============================] - 16s 2s/step - loss: 0.7369 - acc: 0.7266 - val_loss: 1.1129 - val_acc: 0.5455\n",
      "Epoch 11/30\n",
      "8/8 [==============================] - 16s 2s/step - loss: 0.6624 - acc: 0.7523 - val_loss: 0.8673 - val_acc: 0.7159\n",
      "Epoch 12/30\n",
      "8/8 [==============================] - 15s 2s/step - loss: 0.6463 - acc: 0.7500 - val_loss: 1.1625 - val_acc: 0.6023\n",
      "Epoch 13/30\n",
      "8/8 [==============================] - 18s 2s/step - loss: 0.6636 - acc: 0.7348 - val_loss: 1.0271 - val_acc: 0.6042\n",
      "Epoch 14/30\n",
      "8/8 [==============================] - 15s 2s/step - loss: 0.5331 - acc: 0.8127 - val_loss: 0.9966 - val_acc: 0.6705\n",
      "Epoch 15/30\n",
      "8/8 [==============================] - 15s 2s/step - loss: 0.6001 - acc: 0.7512 - val_loss: 1.0270 - val_acc: 0.5909\n",
      "Epoch 16/30\n",
      "8/8 [==============================] - 17s 2s/step - loss: 0.5766 - acc: 0.7802 - val_loss: 1.1775 - val_acc: 0.6136\n",
      "Epoch 17/30\n",
      "8/8 [==============================] - 16s 2s/step - loss: 0.5847 - acc: 0.7578 - val_loss: 1.0124 - val_acc: 0.5938\n",
      "Epoch 18/30\n",
      "8/8 [==============================] - 15s 2s/step - loss: 0.5276 - acc: 0.8240 - val_loss: 0.8153 - val_acc: 0.6477\n",
      "Epoch 19/30\n",
      "8/8 [==============================] - 15s 2s/step - loss: 0.5002 - acc: 0.8086 - val_loss: 1.2123 - val_acc: 0.5568\n",
      "Epoch 20/30\n",
      "8/8 [==============================] - 15s 2s/step - loss: 0.5291 - acc: 0.7782 - val_loss: 0.9099 - val_acc: 0.6818\n",
      "Epoch 21/30\n",
      "8/8 [==============================] - 16s 2s/step - loss: 0.4412 - acc: 0.8303 - val_loss: 0.8680 - val_acc: 0.6667\n",
      "Epoch 22/30\n",
      "8/8 [==============================] - 15s 2s/step - loss: 0.5000 - acc: 0.8111 - val_loss: 1.3184 - val_acc: 0.6250\n",
      "Epoch 23/30\n",
      "8/8 [==============================] - 15s 2s/step - loss: 0.4386 - acc: 0.8362 - val_loss: 1.1172 - val_acc: 0.5909\n",
      "Epoch 24/30\n",
      "8/8 [==============================] - 15s 2s/step - loss: 0.5378 - acc: 0.8127 - val_loss: 1.0124 - val_acc: 0.6250\n",
      "Epoch 25/30\n",
      "8/8 [==============================] - 15s 2s/step - loss: 0.4300 - acc: 0.8656 - val_loss: 0.7210 - val_acc: 0.7083\n",
      "Epoch 26/30\n",
      "8/8 [==============================] - 14s 2s/step - loss: 0.3917 - acc: 0.8648 - val_loss: 1.3521 - val_acc: 0.6250\n",
      "Epoch 27/30\n",
      "8/8 [==============================] - 15s 2s/step - loss: 0.3639 - acc: 0.8789 - val_loss: 0.9926 - val_acc: 0.5682\n",
      "Epoch 28/30\n",
      "8/8 [==============================] - 15s 2s/step - loss: 0.3508 - acc: 0.8633 - val_loss: 1.0677 - val_acc: 0.6705\n",
      "Epoch 29/30\n",
      "8/8 [==============================] - 16s 2s/step - loss: 0.3481 - acc: 0.8628 - val_loss: 1.0533 - val_acc: 0.6042\n",
      "Epoch 30/30\n",
      "8/8 [==============================] - 17s 2s/step - loss: 0.3221 - acc: 0.8969 - val_loss: 1.1846 - val_acc: 0.6023\n"
     ]
    },
    {
     "data": {
      "text/plain": [
       "<keras.callbacks.History at 0x23d8dc8b808>"
      ]
     },
     "execution_count": 34,
     "metadata": {},
     "output_type": "execute_result"
    }
   ],
   "source": [
    "model.fit_generator(strain,steps_per_epoch = 8 ,epochs = 30,validation_data = stest,\n",
    "                    validation_steps = 3 )"
   ]
  },
  {
   "cell_type": "code",
   "execution_count": 50,
   "metadata": {},
   "outputs": [],
   "source": [
    "model.save(\"rock.h5\")"
   ]
  },
  {
   "cell_type": "code",
   "execution_count": 49,
   "metadata": {},
   "outputs": [
    {
     "name": "stdout",
     "output_type": "stream",
     "text": [
      "Slate\n"
     ]
    }
   ],
   "source": [
    "from keras.preprocessing import image\n",
    "img =image.load_img(\"slate.jpg\",target_size = (64,64))\n",
    "import numpy as np\n",
    "x  = image.img_to_array(img)\n",
    "x = np.expand_dims(x,axis = 0)\n",
    "pred = model.predict_classes(x)\n",
    "index=['Basalt', 'Marble', 'Slate', 'obsidian']\n",
    "a = index[pred[0]]\n",
    "print(a)"
   ]
  },
  {
   "cell_type": "code",
   "execution_count": 37,
   "metadata": {},
   "outputs": [
    {
     "data": {
      "text/plain": [
       "'E:\\\\CSEA013-project\\\\CSEA013'"
      ]
     },
     "execution_count": 37,
     "metadata": {},
     "output_type": "execute_result"
    }
   ],
   "source": [
    "pwd"
   ]
  },
  {
   "cell_type": "code",
   "execution_count": null,
   "metadata": {},
   "outputs": [],
   "source": []
  }
 ],
 "metadata": {
  "kernelspec": {
   "display_name": "Python 3",
   "language": "python",
   "name": "python3"
  }
 },
 "nbformat": 4,
 "nbformat_minor": 4
}
